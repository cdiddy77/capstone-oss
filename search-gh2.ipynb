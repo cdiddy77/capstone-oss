{
 "cells": [
  {
   "cell_type": "code",
   "execution_count": 1,
   "metadata": {},
   "outputs": [],
   "source": [
    "import os\n",
    "from dotenv import load_dotenv\n",
    "load_dotenv()\n",
    "from github import Github\n",
    "from github import Auth\n",
    "\n",
    "\n",
    "auth = Auth.Token(os.getenv(\"GITHUB_TOKEN\",''))\n",
    "g = Github(auth=auth)\n"
   ]
  },
  {
   "cell_type": "code",
   "execution_count": 2,
   "metadata": {},
   "outputs": [
    {
     "name": "stdout",
     "output_type": "stream",
     "text": [
      "1000\n",
      "Repository: octocat/Spoon-Knife\n",
      "id: 1300192\n",
      "node_id: MDEwOlJlcG9zaXRvcnkxMzAwMTky\n",
      "name: Spoon-Knife\n",
      "full_name: octocat/Spoon-Knife\n",
      "private: False\n",
      "owner: {'login': 'octocat', 'id': 583231, 'node_id': 'MDQ6VXNlcjU4MzIzMQ==', 'avatar_url': 'https://avatars.githubusercontent.com/u/583231?v=4', 'gravatar_id': '', 'url': 'https://api.github.com/users/octocat', 'html_url': 'https://github.com/octocat', 'followers_url': 'https://api.github.com/users/octocat/followers', 'following_url': 'https://api.github.com/users/octocat/following{/other_user}', 'gists_url': 'https://api.github.com/users/octocat/gists{/gist_id}', 'starred_url': 'https://api.github.com/users/octocat/starred{/owner}{/repo}', 'subscriptions_url': 'https://api.github.com/users/octocat/subscriptions', 'organizations_url': 'https://api.github.com/users/octocat/orgs', 'repos_url': 'https://api.github.com/users/octocat/repos', 'events_url': 'https://api.github.com/users/octocat/events{/privacy}', 'received_events_url': 'https://api.github.com/users/octocat/received_events', 'type': 'User', 'site_admin': False}\n",
      "description: This repo is for demonstration purposes only.\n",
      "fork: False\n",
      "url: https://api.github.com/repos/octocat/Spoon-Knife\n",
      "created_at: 2011-01-27T19:30:43Z\n",
      "updated_at: 2024-01-26T18:34:36Z\n",
      "pushed_at: 2024-01-27T18:58:33Z\n",
      "homepage: \n",
      "size: 2\n",
      "stargazers_count: 12028\n",
      "watchers_count: 12028\n",
      "language: HTML\n",
      "has_issues: True\n",
      "has_projects: True\n",
      "has_downloads: True\n",
      "has_wiki: True\n",
      "has_pages: False\n",
      "has_discussions: False\n",
      "forks_count: 141141\n",
      "archived: False\n",
      "disabled: False\n",
      "open_issues_count: 16712\n",
      "license: None\n",
      "allow_forking: True\n",
      "is_template: False\n",
      "web_commit_signoff_required: False\n",
      "topics: []\n",
      "visibility: public\n",
      "forks: 141141\n",
      "open_issues: 16712\n",
      "watchers: 12028\n",
      "default_branch: main\n",
      "permissions: {'admin': False, 'maintain': False, 'push': False, 'triage': False, 'pull': True}\n",
      "temp_clone_token: \n",
      "network_count: 141141\n",
      "subscribers_count: 683\n",
      "\n",
      "---------------------------------\n",
      "\n",
      "id,node_id,name,full_name,private,owner,html_url,description,fork,url,forks_url,keys_url,collaborators_url,teams_url,hooks_url,issue_events_url,events_url,assignees_url,branches_url,tags_url,blobs_url,git_tags_url,git_refs_url,trees_url,statuses_url,languages_url,stargazers_url,contributors_url,subscribers_url,subscription_url,commits_url,git_commits_url,comments_url,issue_comment_url,contents_url,compare_url,merges_url,archive_url,downloads_url,issues_url,pulls_url,milestones_url,notifications_url,labels_url,releases_url,deployments_url,created_at,updated_at,pushed_at,git_url,ssh_url,clone_url,svn_url,homepage,size,stargazers_count,watchers_count,language,has_issues,has_projects,has_downloads,has_wiki,has_pages,has_discussions,forks_count,mirror_url,archived,disabled,open_issues_count,license,allow_forking,is_template,web_commit_signoff_required,topics,visibility,forks,open_issues,watchers,default_branch,permissions,temp_clone_token,network_count,subscribers_count\n"
     ]
    }
   ],
   "source": [
    "result = g.search_repositories(query='stars:>10000',sort='forks',order='desc')\n",
    "print(result.totalCount)\n",
    "for repo in result[:1]:\n",
    "    print(f\"Repository: {repo.full_name}\")\n",
    "    keys = repo.raw_data.keys()\n",
    "    for key, value in repo.raw_data.items():\n",
    "        if not key.endswith(\"_url\"):\n",
    "            print(f\"{key}: {value}\")\n",
    "    print(\"\\n---------------------------------\\n\")\n",
    "    print(','.join(keys))"
   ]
  },
  {
   "cell_type": "code",
   "execution_count": 5,
   "metadata": {},
   "outputs": [
    {
     "data": {
      "text/plain": [
       "3359"
      ]
     },
     "execution_count": 5,
     "metadata": {},
     "output_type": "execute_result"
    }
   ],
   "source": [
    "result.totalCount"
   ]
  },
  {
   "cell_type": "code",
   "execution_count": 4,
   "metadata": {},
   "outputs": [
    {
     "data": {
      "text/plain": [
       "True"
      ]
     },
     "execution_count": 4,
     "metadata": {},
     "output_type": "execute_result"
    }
   ],
   "source": [
    "repo.allow_forking"
   ]
  },
  {
   "cell_type": "code",
   "execution_count": 26,
   "metadata": {},
   "outputs": [],
   "source": [
    "relevant_keys = [\n",
    "'id',\n",
    "'name',\n",
    "'full_name',\n",
    "'owner',\n",
    "'html_url',\n",
    "'description',\n",
    "'html_url',\n",
    "'fork',\n",
    "'url',\n",
    "'created_at',\n",
    "'updated_at',\n",
    "'pushed_at',\n",
    "'homepage',\n",
    "'size',\n",
    "'stargazers_count',\n",
    "'watchers_count',\n",
    "'language',\n",
    "'has_issues',\n",
    "'has_projects',\n",
    "'has_downloads',\n",
    "'has_wiki',\n",
    "'has_pages',\n",
    "'has_discussions',\n",
    "'forks_count',\n",
    "'archived',\n",
    "'disabled',\n",
    "'license',\n",
    "'allow_forking',\n",
    "'is_template',\n",
    "'web_commit_signoff_required',\n",
    "'topics',\n",
    "'visibility',\n",
    "'forks',\n",
    "'open_issues',\n",
    "'watchers',\n",
    "'network_count',\n",
    "'subscribers_count',\n",
    "]"
   ]
  },
  {
   "cell_type": "code",
   "execution_count": 28,
   "metadata": {},
   "outputs": [
    {
     "name": "stdout",
     "output_type": "stream",
     "text": [
      "id,name,full_name,owner,html_url,description,html_url,fork,url,created_at,updated_at,pushed_at,homepage,size,stargazers_count,watchers_count,language,has_issues,has_projects,has_downloads,has_wiki,has_pages,has_discussions,forks_count,archived,disabled,license,allow_forking,is_template,web_commit_signoff_required,topics,visibility,forks,open_issues,watchers,network_count,subscribers_count\n",
      "Repository: octocat/Spoon-Knife\n",
      "1300192,Spoon-Knife,octocat/Spoon-Knife,{'login': 'octocat', 'id': 583231, 'node_id': 'MDQ6VXNlcjU4MzIzMQ==', 'avatar_url': 'https://avatars.githubusercontent.com/u/583231?v=4', 'gravatar_id': '', 'url': 'https://api.github.com/users/octocat', 'html_url': 'https://github.com/octocat', 'followers_url': 'https://api.github.com/users/octocat/followers', 'following_url': 'https://api.github.com/users/octocat/following{/other_user}', 'gists_url': 'https://api.github.com/users/octocat/gists{/gist_id}', 'starred_url': 'https://api.github.com/users/octocat/starred{/owner}{/repo}', 'subscriptions_url': 'https://api.github.com/users/octocat/subscriptions', 'organizations_url': 'https://api.github.com/users/octocat/orgs', 'repos_url': 'https://api.github.com/users/octocat/repos', 'events_url': 'https://api.github.com/users/octocat/events{/privacy}', 'received_events_url': 'https://api.github.com/users/octocat/received_events', 'type': 'User', 'site_admin': False},https://github.com/octocat/Spoon-Knife,This repo is for demonstration purposes only.,https://github.com/octocat/Spoon-Knife,False,https://api.github.com/repos/octocat/Spoon-Knife,2011-01-27T19:30:43Z,2024-01-06T14:59:42Z,2024-01-06T16:42:34Z,,2,11986,11986,HTML,True,True,True,True,False,False,140734,False,False,None,True,False,False,[],public,140734,16655,11986,140734,677\n",
      "Repository: tensorflow/tensorflow\n",
      "45717250,tensorflow,tensorflow/tensorflow,{'login': 'tensorflow', 'id': 15658638, 'node_id': 'MDEyOk9yZ2FuaXphdGlvbjE1NjU4NjM4', 'avatar_url': 'https://avatars.githubusercontent.com/u/15658638?v=4', 'gravatar_id': '', 'url': 'https://api.github.com/users/tensorflow', 'html_url': 'https://github.com/tensorflow', 'followers_url': 'https://api.github.com/users/tensorflow/followers', 'following_url': 'https://api.github.com/users/tensorflow/following{/other_user}', 'gists_url': 'https://api.github.com/users/tensorflow/gists{/gist_id}', 'starred_url': 'https://api.github.com/users/tensorflow/starred{/owner}{/repo}', 'subscriptions_url': 'https://api.github.com/users/tensorflow/subscriptions', 'organizations_url': 'https://api.github.com/users/tensorflow/orgs', 'repos_url': 'https://api.github.com/users/tensorflow/repos', 'events_url': 'https://api.github.com/users/tensorflow/events{/privacy}', 'received_events_url': 'https://api.github.com/users/tensorflow/received_events', 'type': 'Organization', 'site_admin': False},https://github.com/tensorflow/tensorflow,An Open Source Machine Learning Framework for Everyone,https://github.com/tensorflow/tensorflow,False,https://api.github.com/repos/tensorflow/tensorflow,2015-11-07T01:19:20Z,2024-01-06T15:34:31Z,2024-01-06T17:06:43Z,https://tensorflow.org,968544,179831,179831,C++,True,True,True,False,False,False,89288,False,False,{'key': 'apache-2.0', 'name': 'Apache License 2.0', 'spdx_id': 'Apache-2.0', 'url': 'https://api.github.com/licenses/apache-2.0', 'node_id': 'MDc6TGljZW5zZTI='},True,False,False,['deep-learning', 'deep-neural-networks', 'distributed', 'machine-learning', 'ml', 'neural-network', 'python', 'tensorflow'],public,89288,2046,179831,89288,7655\n",
      "Repository: github/gitignore\n",
      "1062897,gitignore,github/gitignore,{'login': 'github', 'id': 9919, 'node_id': 'MDEyOk9yZ2FuaXphdGlvbjk5MTk=', 'avatar_url': 'https://avatars.githubusercontent.com/u/9919?v=4', 'gravatar_id': '', 'url': 'https://api.github.com/users/github', 'html_url': 'https://github.com/github', 'followers_url': 'https://api.github.com/users/github/followers', 'following_url': 'https://api.github.com/users/github/following{/other_user}', 'gists_url': 'https://api.github.com/users/github/gists{/gist_id}', 'starred_url': 'https://api.github.com/users/github/starred{/owner}{/repo}', 'subscriptions_url': 'https://api.github.com/users/github/subscriptions', 'organizations_url': 'https://api.github.com/users/github/orgs', 'repos_url': 'https://api.github.com/users/github/repos', 'events_url': 'https://api.github.com/users/github/events{/privacy}', 'received_events_url': 'https://api.github.com/users/github/received_events', 'type': 'Organization', 'site_admin': False},https://github.com/github/gitignore,A collection of useful .gitignore templates,https://github.com/github/gitignore,False,https://api.github.com/repos/github/gitignore,2010-11-08T20:17:14Z,2024-01-06T16:57:34Z,2024-01-05T09:58:11Z,,2356,154289,154289,None,False,False,True,False,False,False,83937,False,False,{'key': 'cc0-1.0', 'name': 'Creative Commons Zero v1.0 Universal', 'spdx_id': 'CC0-1.0', 'url': 'https://api.github.com/licenses/cc0-1.0', 'node_id': 'MDc6TGljZW5zZTY='},True,False,False,['git', 'gitignore'],public,83937,469,154289,83937,3354\n"
     ]
    }
   ],
   "source": [
    "result = g.search_repositories(query='stars:>10000',sort='forks',order='desc')\n",
    "# print(result.totalCount)\n",
    "\n",
    "print(','.join(relevant_keys))\n",
    "for repo in result[:3]:\n",
    "    print(f\"Repository: {repo.full_name}\")\n",
    "    values = []\n",
    "    for key in relevant_keys:\n",
    "        values.append(str(repo.raw_data[key]))\n",
    "    print(','.join(values))"
   ]
  },
  {
   "cell_type": "code",
   "execution_count": 6,
   "metadata": {},
   "outputs": [
    {
     "name": "stdout",
     "output_type": "stream",
     "text": [
      "0:0.1:1.2:1.3:2.4:2.5:4.6:4.7:4.8:4.9:4.10:4.11:4.12:4.13:4.14:4.15:5.16:7.17:7.18:7.19:7.20:7.21:7.22:7.23:7.24:7.25:7.26:7.27:7.28:7.29:7.30:7.31:7.32:7.33:7.34:7.35:7.36:7.37:8.38:8.39:8.40:8.41:8.42:8.43:8.44:8.45:8.46:8.47:9.48:9.49:9.50:9.51:9.52:11.53:12.54:12.55:12.56:14.57:14.58:14.59:14.60:14.61:15.62:16.63:16.64:16.65:16.66:17.67:17.68:17.69:17.70:17.71:17.72:17.73:17.74:17.75:17.76:17.77:17.78:17.79:17.80:17.81:17.82:17.83:17.84:17.85:17.86:17.87:17.88:18.89:18.90:18.91:18.92:18.93:18.94:18.95:20.96:20.97:20.98:20.99:20.100:20.101:20.102:20.103:20.104:20.105:20.106:20.107:20.108:20.109:20.110:20.111:20.112:20.113:20.114:20.115:20.116:20.117:20.118:20.119:20.120:20.121:20.122:21.123:21.124:21.125:21.126:21.127:21.128:21.129:21.130:21.131:21.132:21.133:21.134:21.135:21.136:21.137:21.138:21.139:21.140:21.141:21.142:21.143:21.144:21.145:21.146:21.147:21.148:21.149:21.150:21.151:22.152:22.153:22.154:22.155:22.156:22.157:22.158:22.159:23.160:23.161:23.162:23.163:23.164:23.165:24.166:24.167:24.168:24.169:24.170:24.171:24.172:24.173:24.174:24.175:24.176:24.177:24.178:24.179:24.180:24.181:24.182:24.183:24.184:24.185:24.186:24.187:24.188:24.189:24.190:24.191:24.192:24.193:24.194:24.195:24.196:25.197:25.198:25.199:25.200:25.201:27.202:27.203:27.204:28.205:28.206:28.207:28.208:28.209:28.210:28.211:28.212:28.213:28.214:28.215:28.216:28.217:29.218:29.219:29.220:29.221:29.222:29.223:29.224:29.225:29.226:29.227:29.228:29.229:29.230:29.231:29.232:29.233:29.234:31.235:32.236:32.237:32.238:32.239:32.240:32.241:32.242:32.243:32.244:32.245:32.246:32.247:32.248:32.249:33.250:33.251:33.252:33.253:33.254:33.255:33.256:33.257:33.258:33.259:33.260:33.261:33.262:33.263:33.264:33.265:33.266:33.267:33.268:33.269:33.270:33.271:33.272:33.273:33.274:33.275:34.276:34.277:34.278:34.279:34.280:34.281:34.282:34.283:34.284:35.285:35.286:35.287:35.288:35.289:35.290:35.291:35.292:35.293:35.294:35.295:36.296:36.297:36.298:36.299:36.300:36.301:36.302:36.303:36.304:36.305:36.306:36.307:36.308:36.309:36.310:36.311:36.312:36.313:36.314:36.315:36.316:36.317:36.318:36.319:36.320:36.321:37.322:37.323:37.324:37.325:37.326:37.327:37.328:37.329:37.330:37.331:37.332:37.333:37.334:37.335:37.336:38.337:38.338:38.339:38.340:38.341:38.342:38.343:38.344:38.345:38.346:38.347:38.348:38.349:38.350:38.351:38.352:38.353:38.354:38.355:39.356:39.357:39.358:39.359:39.360:39.361:39.362:39.363:39.364:39.365:39.366:41.367:41.368:41.369:41.370:41.371:41.372:41.373:41.374:41.375:42.376:43.377:43.378:43.379:44.380:44.381:44.382:44.383:44.384:44.385:44.386:44.387:44.388:44.389:44.390:46.391:46.392:46.393:46.394:46.395:46.396:46.397:46.398:46.399:46.400:46.401:46.402:46.403:46.404:46.405:46.406:46.407:46.408:46.409:46.410:46.411:46.412:46.413:47.414:47.415:47.416:47.417:47.418:47.419:47.420:47.421:47.422:47.423:47.424:47.425:47.426:47.427:47.428:47.429:47.430:47.431:47.432:47.433:47.434:47.435:47.436:47.437:47.438:47.439:48.440:48.441:48.442:48.443:48.444:48.445:48.446:48.447:48.448:48.449:48.450:49.451:49.452:49.453:49.454:49.455:49.456:49.457:49.458:49.459:49.460:49.461:49.462:49.463:49.464:49.465:49.466:49.467:49.468:49.469:49.470:49.471:49.472:49.473:49.474:49.475:49.476:49.477:49.478:49.479:49.480:49.481:49.482:49.483:49.484:49.485:49.486:49.487:49.488:49.489:49.490:49.491:50.492:50.493:50.494:50.495:50.496:50.497:50.498:50.499:50.500:50.501:50.502:50.503:50.504:50.505:50.506:50.507:50.508:50.509:50.510:50.511:50.512:50.513:50.514:50.515:50.516:50.517:50.518:50.519:50.520:50.521:50.522:51.523:51.524:51.525:53.526:53.527:53.528:53.529:53.530:53.531:53.532:53.533:53.534:53.535:53.536:53.537:53.538:53.539:53.540:53.541:53.542:53.543:53.544:53.545:53.546:53.547:53.548:53.549:53.550:53.551:53.552:53.553:53.554:53.555:53.556:53.557:53.558:54.559:54.560:54.561:54.562:55.563:55.564:56.565:56.566:56.567:56.568:56.569:56.570:56.571:56.572:57.573:57.574:57.575:57.576:57.577:57.578:57.579:58.580:58.581:58.582:58.583:58.584:58.585:58.586:58.587:58.588:58.589:58.590:58.591:58.592:58.593:58.594:58.595:58.596:58.597:58.598:58.599:58.600:58.601:58.602:58.603:58.604:58.605:58.606:58.607:58.608:58.609:58.610:58.611:58.612:59.613:59.614:59.615:59.616:59.617:59.618:59.619:59.620:59.621:59.622:59.623:59.624:59.625:59.626:59.627:60.628:60.629:60.630:60.631:60.632:60.633:60.634:60.635:60.636:60.637:60.638:60.639:60.640:60.641:60.642:60.643:60.644:60.645:60.646:60.647:60.648:60.649:60.650:60.651:60.652:60.653:60.654:60.655:60.656:60.657:60.658:60.659:60.660:60.661:60.662:60.663:60.664:60.665:60.666:60.667:60.668:60.669:60.670:60.671:60.672:60.673:60.674:60.675:61.676:61.677:61.678:61.679:61.680:61.681:61.682:61.683:61.684:63.685:63.686:63.687:63.688:63.689:63.690:63.691:63.692:63.693:63.694:63.695:63.696:63.697:63.698:63.699:63.700:63.701:63.702:63.703:63.704:63.705:63.706:63.707:63.708:63.709:63.710:63.711:63.712:63.713:63.714:63.715:63.716:63.717:63.718:63.719:63.720:63.721:63.722:63.723:63.724:63.725:63.726:63.727:63.728:63.729:63.730:63.731:64.732:64.733:65.734:65.735:65.736:65.737:65.738:65.739:65.740:65.741:65.742:65.743:65.744:65.745:65.746:65.747:65.748:65.749:65.750:65.751:67.752:67.753:68.754:68.755:68.756:68.757:68.758:70.759:70.760:70.761:70.762:70.763:70.764:71.765:71.766:71.767:71.768:71.769:71.770:71.771:71.772:71.773:71.774:71.775:71.776:71.777:71.778:71.779:71.780:71.781:71.782:71.783:71.784:71.785:71.786:71.787:71.788:71.789:71.790:71.791:71.792:71.793:71.794:71.795:71.796:71.797:71.798:71.799:71.800:71.801:71.802:71.803:71.804:71.805:71.806:71.807:71.808:71.809:71.810:71.811:72.812:72.813:72.814:72.815:72.816:72.817:72.818:72.819:72.820:72.821:72.822:72.823:72.824:72.825:72.826:72.827:72.828:72.829:72.830:72.831:73.832:73.833:73.834:73.835:73.836:73.837:73.838:73.839:73.840:73.841:73.842:73.843:73.844:73.845:73.846:73.847:73.848:73.849:73.850:73.851:73.852:73.853:73.854:73.855:73.856:73.857:73.858:73.859:73.860:73.861:73.862:73.863:73.864:73.865:73.866:73.867:73.868:73.869:73.870:73.871:73.872:73.873:73.874:73.875:73.876:73.877:74.878:74.879:74.880:74.881:74.882:74.883:74.884:74.885:74.886:74.887:74.888:74.889:74.890:74.891:74.892:74.893:74.894:75.895:75.896:75.897:75.898:75.899:75.900:75.901:75.902:75.903:75.904:75.905:75.906:75.907:75.908:75.909:77.910:77.911:77.912:77.913:77.914:77.915:77.916:77.917:77.918:77.919:77.920:77.921:77.922:77.923:77.924:77.925:77.926:77.927:77.928:77.929:77.930:77.931:77.932:77.933:77.934:77.935:77.936:77.937:77.938:77.939:77.940:77.941:77.942:77.943:77.944:77.945:77.946:77.947:77.948:77.949:77.950:77.951:77.952:77.953:77.954:77.955:77.956:77.957:78.958:78.959:78.960:78.961:78.962:78.963:78.964:78.965:78.966:78.967:78.968:78.969:78.970:78.971:78.972:78.973:78.974:78.975:78.976:78.977:78.978:78.979:78.980:78.981:78.982:78.983:78.984:78.985:78.986:78.987:78.988:78.989:78.990:78.991:78.992:78.993:78.994:78.995:78.996:78.997:79.998:79.999:79.1000:80.1001:80.1002:80.1003:80.1004:80.1005:80.1006:80.1007:80.1008:80.1009:80.1010:80.1011:80.1012:80.1013:80.1014:80.1015:80.1016:80.1017:80.1018:80.1019:80.\n",
      "{'Help Wanted', '🙋🏻\\u200d♂️help wanted', 'E-starter', 'type: help wanted :slightly_smiling_face:', 'difficulty:beginner', ':fire: good first issue', '🌳 help wanted', 'issue: help wanted', 'help wanted:paper implementation', 'info: help wanted', 'starter', 'help wanted (easy)', 'Help needed', 'help wanted/question', 'help wanted', 'contrib: help needed', 'X5: work required (PR / Help Wanted)', 'Help Wanted-Good first issue', 'Starter', 'Help wanted', 'good first issue :1st_place_medal:', '👋 good first issue', 'type::beginner', 'Contribution::Help Wanted', 'Status: Help Wanted', 'good-beginner-bug', 'status: good first issue', ':smiling_imp: good first issue', 'Good first issue', '🙏help wanted', 'Level:Starter', 'good first issue :baby_chick:', 'good first issue 👍', ':bulb: Help wanted', 'Status: Community help needed', 'help wanted/suggest', 'difficulty: beginner', 'contrib: good first issue', 'for beginners', 'module/seata-spring-boot-starter', 'status: help wanted', 'Good for beginner contribution', 'Good first issue!', 'code help wanted', 'disposition/good first issue', 'Type: Help wanted', 'Beginner friendly', 'help wanted :sos:', 'beginner-friendly', 'help needed', 'info: good first issue', 'question & help wanted', 'good first Issue', 'Beginner Friendly', 'community help wanted', ':fire: help wanted', 'community/help wanted', 'Difficulty - Beginner', 'disposition/help wanted', 'beginner-task', 'Help Wanted :octocat:', 'Help Needed', 'beginner friendly', 'good first issue', 'state: help needed', 'Difficulty: starter', '🙇\\u200d♂️ help wanted', '✅ good first issue', 'fit for beginners', 'difficulty: starter', ':gift: BEGINNER', 'good first issue candidate', 'good first issue (taken)', 'exp/beginner', 'starter-task', 'Type: Help Needed', 'beginner', 'Starter bug', 'Good First Issue', 'community/good first issue'}\n"
     ]
    }
   ],
   "source": [
    "from github import Repository\n",
    "import re\n",
    "labels = set()\n",
    "pattern = re.compile(r'help wanted|help needed|good first issue|beginner|starter', re.IGNORECASE)\n",
    "\n",
    "repo :Repository.Repository\n",
    "x = 0\n",
    "for repo in result:\n",
    "    for label in repo.get_labels():\n",
    "        if pattern.search(label.name):\n",
    "            labels.add(label.name)\n",
    "    print(f\"{x}:{len(labels)}\", end='.' if x+1 % 20 else '\\n')\n",
    "    x += 1\n",
    "\n",
    "print()\n",
    "\n",
    "print(labels)\n"
   ]
  },
  {
   "cell_type": "code",
   "execution_count": 10,
   "metadata": {},
   "outputs": [],
   "source": [
    "repo = g.get_repo('facebook/react')"
   ]
  },
  {
   "cell_type": "code",
   "execution_count": 14,
   "metadata": {},
   "outputs": [
    {
     "data": {
      "text/plain": [
       "1597"
      ]
     },
     "execution_count": 14,
     "metadata": {},
     "output_type": "execute_result"
    }
   ],
   "source": [
    "repo.get_issues(state='open').totalCount"
   ]
  },
  {
   "cell_type": "code",
   "execution_count": 17,
   "metadata": {},
   "outputs": [],
   "source": [
    "target_labels = labels"
   ]
  },
  {
   "cell_type": "code",
   "execution_count": 18,
   "metadata": {},
   "outputs": [
    {
     "data": {
      "text/plain": [
       "1"
      ]
     },
     "execution_count": 18,
     "metadata": {},
     "output_type": "execute_result"
    }
   ],
   "source": [
    "def count_issues_with_target_labels(repo):\n",
    "    count = 0\n",
    "    for issue in repo.get_issues(state='open'):\n",
    "        labels = issue.get_labels()\n",
    "        if any([l.name for l in labels if l.name in target_labels]):\n",
    "            count += 1\n",
    "            break\n",
    "    return count\n",
    "\n",
    "count_issues_with_target_labels(repo)"
   ]
  },
  {
   "cell_type": "code",
   "execution_count": 30,
   "metadata": {},
   "outputs": [
    {
     "data": {
      "text/plain": [
       "7"
      ]
     },
     "execution_count": 30,
     "metadata": {},
     "output_type": "execute_result"
    }
   ],
   "source": [
    "def count_issues_with_target_labels(repo):\n",
    "    # common_target_labels = target_labels\n",
    "    common_target_labels = target_labels.intersection(set([l.name for l in repo.get_labels()]))\n",
    "    issues = set()\n",
    "    for tl in common_target_labels:\n",
    "        for issue in repo.get_issues(state='open', labels=[tl]):\n",
    "            issues.add(issue.id)\n",
    "    return len(issues)\n",
    "\n",
    "\n",
    "count_issues_with_target_labels(repo)"
   ]
  },
  {
   "cell_type": "code",
   "execution_count": 22,
   "metadata": {},
   "outputs": [
    {
     "data": {
      "text/plain": [
       "0"
      ]
     },
     "execution_count": 22,
     "metadata": {},
     "output_type": "execute_result"
    }
   ],
   "source": [
    "def count_issues_with_target_labels(repo):\n",
    "    count = repo.get_issues(state='open', labels=list(target_labels)).totalCount\n",
    "    return count\n",
    "\n",
    "count_issues_with_target_labels(repo)"
   ]
  },
  {
   "cell_type": "code",
   "execution_count": 41,
   "metadata": {},
   "outputs": [
    {
     "data": {
      "text/plain": [
       "1"
      ]
     },
     "execution_count": 41,
     "metadata": {},
     "output_type": "execute_result"
    }
   ],
   "source": [
    "x = 20\n",
    "(x+1) % 20"
   ]
  },
  {
   "cell_type": "code",
   "execution_count": 42,
   "metadata": {},
   "outputs": [
    {
     "name": "stdout",
     "output_type": "stream",
     "text": [
      "0..1..2..3..4..5..6..7..8..9..10..11..12..13..14..15..16..17..18..19.\n",
      "20..21..22..23..24..25..26..27..28..29..30..31..32..33..34..35..36..37..38..39.\n",
      "40..41..42..43..44..45..46..47..48..49..50..51..52..53..54..55..56..57..58..59.\n",
      "60..61..62..63..64..65..66..67..68..69..70..71..72..73..74..75..76..77..78..79.\n",
      "80..81..82..83..84..85..86..87..88..89..90..91..92..93..94..95..96..97..98..99.\n",
      "100\n"
     ]
    }
   ],
   "source": [
    "commits = repo.get_commits(sha=repo.default_branch)\n",
    "unique_commits = set()\n",
    "x = 0\n",
    "for commit in commits[:100]:\n",
    "    print(f'{x}.', end=('.' if (x+1) % 20 != 0 else '\\n'))\n",
    "    x += 1\n",
    "    unique_commits.add(commit.sha)\n",
    "print(len(unique_commits))\n",
    "# print(len(set([commit.sha for commit in commits])))\n"
   ]
  },
  {
   "cell_type": "code",
   "execution_count": 15,
   "metadata": {},
   "outputs": [
    {
     "name": "stdout",
     "output_type": "stream",
     "text": [
      "{'Help Wanted', '🙋🏻\\u200d♂️help wanted', 'E-starter', 'type: help wanted :slightly_smiling_face:', 'difficulty:beginner', ':fire: good first issue', '🌳 help wanted', 'issue: help wanted', 'help wanted:paper implementation', 'info: help wanted', 'starter', 'help wanted (easy)', 'Help needed', 'help wanted/question', 'help wanted', 'contrib: help needed', 'X5: work required (PR / Help Wanted)', 'Help Wanted-Good first issue', 'Starter', 'Help wanted', 'good first issue :1st_place_medal:', '👋 good first issue', 'type::beginner', 'Contribution::Help Wanted', 'Status: Help Wanted', 'good-beginner-bug', 'status: good first issue', ':smiling_imp: good first issue', 'Good first issue', '🙏help wanted', 'Level:Starter', 'good first issue :baby_chick:', 'good first issue 👍', ':bulb: Help wanted', 'Status: Community help needed', 'help wanted/suggest', 'difficulty: beginner', 'contrib: good first issue', 'for beginners', 'module/seata-spring-boot-starter', 'status: help wanted', 'Good for beginner contribution', 'Good first issue!', 'code help wanted', 'disposition/good first issue', 'Type: Help wanted', 'Beginner friendly', 'help wanted :sos:', 'beginner-friendly', 'help needed', 'info: good first issue', 'question & help wanted', 'good first Issue', 'Beginner Friendly', 'community help wanted', ':fire: help wanted', 'community/help wanted', 'Difficulty - Beginner', 'disposition/help wanted', 'beginner-task', 'Help Wanted :octocat:', 'Help Needed', 'beginner friendly', 'good first issue', 'state: help needed', 'Difficulty: starter', '🙇\\u200d♂️ help wanted', '✅ good first issue', 'fit for beginners', 'difficulty: starter', ':gift: BEGINNER', 'good first issue candidate', 'good first issue (taken)', 'exp/beginner', 'starter-task', 'Type: Help Needed', 'beginner', 'Starter bug', 'Good First Issue', 'community/good first issue'}\n"
     ]
    }
   ],
   "source": [
    "print(labels)"
   ]
  },
  {
   "cell_type": "code",
   "execution_count": 16,
   "metadata": {},
   "outputs": [
    {
     "name": "stdout",
     "output_type": "stream",
     "text": [
      "7\n"
     ]
    }
   ],
   "source": [
    "open_issues = [issue for issue in repo.get_issues(state='open') if any(label in [label.name for label in issue.labels] for label in labels)]\n",
    "print(len(open_issues))"
   ]
  },
  {
   "cell_type": "code",
   "execution_count": null,
   "metadata": {},
   "outputs": [],
   "source": [
    "count = 0\n",
    "for label in list(labels):\n",
    "    count += len([issue for issue in repo.get_issues(state='open',labels=[label])])\n",
    "print(f\"{label}: {count}\")"
   ]
  },
  {
   "cell_type": "code",
   "execution_count": 9,
   "metadata": {},
   "outputs": [
    {
     "data": {
      "text/plain": [
       "['Help Wanted',\n",
       " '🙋🏻\\u200d♂️help wanted',\n",
       " 'E-starter',\n",
       " 'type: help wanted :slightly_smiling_face:',\n",
       " 'difficulty:beginner',\n",
       " ':fire: good first issue',\n",
       " '🌳 help wanted',\n",
       " 'issue: help wanted',\n",
       " 'help wanted:paper implementation',\n",
       " 'info: help wanted',\n",
       " 'starter',\n",
       " 'help wanted (easy)',\n",
       " 'Help needed',\n",
       " 'help wanted/question',\n",
       " 'help wanted',\n",
       " 'contrib: help needed',\n",
       " 'X5: work required (PR / Help Wanted)',\n",
       " 'Help Wanted-Good first issue',\n",
       " 'Starter',\n",
       " 'Help wanted',\n",
       " 'good first issue :1st_place_medal:',\n",
       " '👋 good first issue',\n",
       " 'type::beginner',\n",
       " 'Contribution::Help Wanted',\n",
       " 'Status: Help Wanted',\n",
       " 'good-beginner-bug',\n",
       " 'status: good first issue',\n",
       " ':smiling_imp: good first issue',\n",
       " 'Good first issue',\n",
       " '🙏help wanted',\n",
       " 'Level:Starter',\n",
       " 'good first issue :baby_chick:',\n",
       " 'good first issue 👍',\n",
       " ':bulb: Help wanted',\n",
       " 'Status: Community help needed',\n",
       " 'help wanted/suggest',\n",
       " 'difficulty: beginner',\n",
       " 'contrib: good first issue',\n",
       " 'for beginners',\n",
       " 'module/seata-spring-boot-starter',\n",
       " 'status: help wanted',\n",
       " 'Good for beginner contribution',\n",
       " 'Good first issue!',\n",
       " 'code help wanted',\n",
       " 'disposition/good first issue',\n",
       " 'Type: Help wanted',\n",
       " 'Beginner friendly',\n",
       " 'help wanted :sos:',\n",
       " 'beginner-friendly',\n",
       " 'help needed',\n",
       " 'info: good first issue',\n",
       " 'question & help wanted',\n",
       " 'good first Issue',\n",
       " 'Beginner Friendly',\n",
       " 'community help wanted',\n",
       " ':fire: help wanted',\n",
       " 'community/help wanted',\n",
       " 'Difficulty - Beginner',\n",
       " 'disposition/help wanted',\n",
       " 'beginner-task',\n",
       " 'Help Wanted :octocat:',\n",
       " 'Help Needed',\n",
       " 'beginner friendly',\n",
       " 'good first issue',\n",
       " 'state: help needed',\n",
       " 'Difficulty: starter',\n",
       " '🙇\\u200d♂️ help wanted',\n",
       " '✅ good first issue',\n",
       " 'fit for beginners',\n",
       " 'difficulty: starter',\n",
       " ':gift: BEGINNER',\n",
       " 'good first issue candidate',\n",
       " 'good first issue (taken)',\n",
       " 'exp/beginner',\n",
       " 'starter-task',\n",
       " 'Type: Help Needed',\n",
       " 'beginner',\n",
       " 'Starter bug',\n",
       " 'Good First Issue',\n",
       " 'community/good first issue']"
      ]
     },
     "execution_count": 9,
     "metadata": {},
     "output_type": "execute_result"
    }
   ],
   "source": [
    "list(labels)"
   ]
  },
  {
   "cell_type": "code",
   "execution_count": 17,
   "metadata": {},
   "outputs": [
    {
     "name": "stdout",
     "output_type": "stream",
     "text": [
      "good first issue (taken)\n",
      "Difficulty: starter\n",
      "good first issue\n"
     ]
    }
   ],
   "source": [
    "import re\n",
    "labels_list = list(labels)\n",
    "pattern = re.compile(r'help wanted|help needed|good first issue|beginner|starter', re.IGNORECASE)\n",
    "matching_labels = [label for label in labels_list if re.search(pattern, label)]\n",
    "\n",
    "for label in matching_labels:\n",
    "    print(label)\n"
   ]
  },
  {
   "cell_type": "code",
   "execution_count": 19,
   "metadata": {},
   "outputs": [
    {
     "name": "stdout",
     "output_type": "stream",
     "text": [
      "<class 'github.PaginatedList.PaginatedList'>\n"
     ]
    }
   ],
   "source": [
    "print(type(open_issues))"
   ]
  },
  {
   "cell_type": "code",
   "execution_count": null,
   "metadata": {},
   "outputs": [],
   "source": []
  },
  {
   "cell_type": "code",
   "execution_count": 20,
   "metadata": {},
   "outputs": [
    {
     "name": "stdout",
     "output_type": "stream",
     "text": [
      "good first issue (taken): 2\n",
      "Difficulty: starter: 1\n",
      "good first issue: 5\n"
     ]
    }
   ],
   "source": [
    "for label in matching_labels:\n",
    "    count = sum(1 for issue in open_issues if label in [l.name for l in issue.labels])\n",
    "    print(f\"{label}: {count}\")\n"
   ]
  },
  {
   "cell_type": "code",
   "execution_count": 23,
   "metadata": {},
   "outputs": [
    {
     "name": "stderr",
     "output_type": "stream",
     "text": [
      "Request GET /search/repositories?sort=forks&order=desc&q=stars%3A%3E10000&page=30 failed with 403: Forbidden\n",
      "Setting next backoff to 15.392619s\n"
     ]
    }
   ],
   "source": [
    "result = g.search_repositories(query='stars:>10000',sort='forks',order='desc')\n",
    "# print(result.totalCount)\n",
    "\n",
    "all_repos = []\n",
    "for repo in result[:1000]:\n",
    "    all_repos.append(repo.full_name)\n"
   ]
  },
  {
   "cell_type": "code",
   "execution_count": 24,
   "metadata": {},
   "outputs": [
    {
     "name": "stdout",
     "output_type": "stream",
     "text": [
      "1000\n"
     ]
    }
   ],
   "source": []
  },
  {
   "cell_type": "code",
   "execution_count": 61,
   "metadata": {},
   "outputs": [],
   "source": [
    "pattern = re.compile(r'help wanted|good first issue|beginners welcome|starter|contributions welcome', re.IGNORECASE)\n"
   ]
  },
  {
   "cell_type": "code",
   "execution_count": 60,
   "metadata": {},
   "outputs": [
    {
     "name": "stdout",
     "output_type": "stream",
     "text": [
      "1:0\n",
      "2:112.3:124.4:130.5:184.6:189.7:197.8:259.9:326.10:414.dependencies 3\n",
      "good first issue 6\n",
      "invalid 7\n",
      "python 2\n",
      "release 2\n",
      "stale 3\n",
      "spam 2\n",
      "bug 4\n",
      "duplicate 7\n",
      "enhancement 3\n",
      "help wanted 6\n",
      "question 4\n",
      "wontfix 5\n",
      "accessibility 2\n",
      "confirmed 2\n",
      "design 2\n",
      "feature 3\n",
      "github_actions 2\n",
      "hacktoberfest-accepted 3\n"
     ]
    }
   ],
   "source": [
    "from collections import defaultdict\n",
    "label_freq_map = defaultdict(int)\n",
    "\n",
    "for x in range(len(all_repos[:10])):\n",
    "    repo_name = all_repos[x]\n",
    "    repo = g.get_repo(repo_name)\n",
    "    labels = repo.get_labels()\n",
    "    for label in labels:\n",
    "        label_freq_map[label.name] += 1\n",
    "    print(f\"{x+1}:{len(label_freq_map)}\", end='.' if x % 10 else '\\n')\n",
    "\n",
    "for key, value in label_freq_map.items():\n",
    "    if value > 1:\n",
    "        print(key, value)\n"
   ]
  },
  {
   "cell_type": "code",
   "execution_count": 63,
   "metadata": {},
   "outputs": [
    {
     "name": "stdout",
     "output_type": "stream",
     "text": [
      "0:0.1:1.2:1.3:2.4:2.5:2.6:2.7:2.8:2.9:2.\n",
      "good first issue 6\n",
      "help wanted 6\n"
     ]
    }
   ],
   "source": [
    "label_freq_map = defaultdict(int)\n",
    "\n",
    "for x in range(len(all_repos)):\n",
    "    repo_name = all_repos[x]\n",
    "    repo = g.get_repo(repo_name)\n",
    "    labels = repo.get_labels()\n",
    "    for label in labels:\n",
    "        if re.search(pattern, label.name):\n",
    "            label_freq_map[label.name] += 1\n",
    "    print(f\"{x}:{len(label_freq_map)}\", end='.' if x+1 % 10 else '\\n')\n",
    "print()\n",
    "for key, value in label_freq_map.items():\n",
    "    if value > 1:\n",
    "        print(key, value)\n"
   ]
  },
  {
   "cell_type": "code",
   "execution_count": null,
   "metadata": {},
   "outputs": [],
   "source": []
  },
  {
   "cell_type": "code",
   "execution_count": null,
   "metadata": {},
   "outputs": [],
   "source": []
  },
  {
   "cell_type": "code",
   "execution_count": 45,
   "metadata": {},
   "outputs": [
    {
     "name": "stdout",
     "output_type": "stream",
     "text": [
      "invalid 7\n",
      "duplicate 7\n",
      "good first issue 6\n",
      "help wanted 6\n",
      "wontfix 5\n",
      "bug 4\n",
      "question 4\n",
      "dependencies 3\n",
      "stale 3\n",
      "enhancement 3\n",
      "feature 3\n",
      "hacktoberfest-accepted 3\n",
      "python 2\n",
      "release 2\n",
      "spam 2\n",
      "accessibility 2\n",
      "confirmed 2\n",
      "design 2\n",
      "github_actions 2\n"
     ]
    }
   ],
   "source": [
    "sorted_list = sorted(label_freq_map.items(), key=lambda item:item[1], reverse=True)\n",
    "for key, value in sorted_list:\n",
    "    if value > 1:\n",
    "        print(key, value)"
   ]
  },
  {
   "cell_type": "code",
   "execution_count": null,
   "metadata": {},
   "outputs": [],
   "source": []
  },
  {
   "cell_type": "code",
   "execution_count": null,
   "metadata": {},
   "outputs": [],
   "source": []
  },
  {
   "cell_type": "code",
   "execution_count": 33,
   "metadata": {},
   "outputs": [
    {
     "data": {
      "text/plain": [
       "130"
      ]
     },
     "execution_count": 33,
     "metadata": {},
     "output_type": "execute_result"
    }
   ],
   "source": []
  },
  {
   "cell_type": "code",
   "execution_count": null,
   "metadata": {},
   "outputs": [],
   "source": []
  },
  {
   "cell_type": "code",
   "execution_count": 47,
   "metadata": {},
   "outputs": [
    {
     "data": {
      "text/plain": [
       "'tensorflow/tensorflow'"
      ]
     },
     "execution_count": 47,
     "metadata": {},
     "output_type": "execute_result"
    }
   ],
   "source": [
    "all_repos[1]"
   ]
  },
  {
   "cell_type": "code",
   "execution_count": null,
   "metadata": {},
   "outputs": [],
   "source": []
  },
  {
   "cell_type": "code",
   "execution_count": 56,
   "metadata": {},
   "outputs": [],
   "source": [
    "# keep a cache of information about each repo, so we dont re-fetch information\n",
    "repoCache = defaultdict(dict)\n",
    "# these are the keys of things we cache\n",
    "REPO = 'repo'\n",
    "LABELS = 'labels'\n",
    "\n",
    "# given a repo and a field name, and a function to populate that field, \n",
    "# ensure that the field is populated in the cache and return it\n",
    "# the getter takes the repo as an argument\n",
    "def ensureRepoCached(repo_name,field_name,getter):\n",
    "    if repo_name not in repoCache:\n",
    "        repoCache[repo_name][REPO] = g.get_repo(repo_name)\n",
    "    if field_name not in repoCache[repo_name]:\n",
    "        repoCache[repo_name][field_name] = getter(repoCache[repo_name][REPO],repoCache[repo_name])\n",
    "    return repoCache[repo_name][field_name]\n",
    "\n",
    "def getRepoLabels(repo,cache):\n",
    "    return [label.name for label in repo.get_labels()]"
   ]
  },
  {
   "cell_type": "code",
   "execution_count": 59,
   "metadata": {},
   "outputs": [
    {
     "data": {
      "text/plain": [
       "['3rd-party',\n",
       " 'accessibility',\n",
       " 'affects-main-branch',\n",
       " 'awaiting-reply',\n",
       " 'backport-to-v4',\n",
       " 'breaking-change',\n",
       " 'browser-bug',\n",
       " 'build',\n",
       " 'CI',\n",
       " 'color mode',\n",
       " 'confirmed',\n",
       " 'css',\n",
       " 'dependencies',\n",
       " 'design',\n",
       " 'docs',\n",
       " 'duplicate',\n",
       " 'enhancement',\n",
       " 'examples',\n",
       " 'feature',\n",
       " 'github_actions',\n",
       " 'github-actions',\n",
       " 'hacktoberfest-accepted',\n",
       " 'has conflicts',\n",
       " 'has-pr',\n",
       " 'help wanted',\n",
       " 'how-to',\n",
       " 'in progress',\n",
       " 'invalid',\n",
       " 'js',\n",
       " 'large PR',\n",
       " 'meta',\n",
       " 'needs documentation',\n",
       " 'needs migration notes',\n",
       " 'needs tests',\n",
       " 'needs-example',\n",
       " 'no squash',\n",
       " 'no-backport-to-v4',\n",
       " 'on-hold',\n",
       " 'p1',\n",
       " 'p2',\n",
       " 'p3',\n",
       " 'p4',\n",
       " 'performance',\n",
       " 'print',\n",
       " 'refactoring',\n",
       " 'regression',\n",
       " 'release',\n",
       " 'release-highlight',\n",
       " 'rfs',\n",
       " 'rtl',\n",
       " 'ship list',\n",
       " 'skip-changelog',\n",
       " 'squash',\n",
       " 'tests',\n",
       " 'utility API',\n",
       " 'v3',\n",
       " 'v4',\n",
       " 'v5',\n",
       " 'v6',\n",
       " \"won't fix\"]"
      ]
     },
     "execution_count": 59,
     "metadata": {},
     "output_type": "execute_result"
    }
   ],
   "source": [
    "ensureRepoCached(all_repos[4],LABELS,getRepoLabels)"
   ]
  },
  {
   "cell_type": "code",
   "execution_count": 53,
   "metadata": {},
   "outputs": [
    {
     "data": {
      "text/plain": [
       "defaultdict(dict,\n",
       "            {'tensorflow/tensorflow': {'repo': Repository(full_name=\"tensorflow/tensorflow\"),\n",
       "              'labels': ['1.4.0',\n",
       "               '1.9',\n",
       "               '2.6.0',\n",
       "               'Android',\n",
       "               'API review',\n",
       "               'awaiting PR merge',\n",
       "               'awaiting review',\n",
       "               'build and push to gcr.io for staging',\n",
       "               'cla: no',\n",
       "               'cla: yes',\n",
       "               'comp:apis',\n",
       "               'comp:autograph',\n",
       "               'comp:cloud',\n",
       "               'comp:core',\n",
       "               'comp:data',\n",
       "               'comp:dist-strat',\n",
       "               'comp:eager',\n",
       "               'comp:gpu',\n",
       "               'comp:gpu:tensorrt',\n",
       "               'comp:grappler',\n",
       "               'comp:keras',\n",
       "               'comp:lite',\n",
       "               'comp:lite-examples',\n",
       "               'comp:lite-flex',\n",
       "               'comp:lite-kernels',\n",
       "               'comp:lite-support',\n",
       "               'comp:lite-tosa',\n",
       "               'comp:lite-xnnpack',\n",
       "               'comp:micro',\n",
       "               'comp:mkl',\n",
       "               'comp:model',\n",
       "               'comp:ops',\n",
       "               'comp:runtime',\n",
       "               'comp:signal',\n",
       "               'comp:tensorboard',\n",
       "               'comp:tf.function',\n",
       "               'comp:tfdbg',\n",
       "               'comp:tpus',\n",
       "               'comp:xla',\n",
       "               'contrib',\n",
       "               'dependencies',\n",
       "               'Fixed in Nightly',\n",
       "               'good first issue',\n",
       "               'invalid',\n",
       "               'iOS',\n",
       "               'kokoro:force-run',\n",
       "               'ModelOptimizationToolkit',\n",
       "               'override-stale',\n",
       "               'prime',\n",
       "               'prtype:bugfix',\n",
       "               'python',\n",
       "               'ready to pull',\n",
       "               'regression issue',\n",
       "               'release',\n",
       "               'RNN',\n",
       "               'size:L',\n",
       "               'size:M',\n",
       "               'size:S',\n",
       "               'size:XL',\n",
       "               'size:XS',\n",
       "               'stale',\n",
       "               'stat:awaiting response',\n",
       "               'stat:awaiting tensorflower',\n",
       "               'stat:community support',\n",
       "               'stat:contribution welcome',\n",
       "               'subtype: raspberry pi',\n",
       "               'subtype: ubuntu/linux',\n",
       "               'subtype:bazel',\n",
       "               'subtype:centos',\n",
       "               'subtype:cpu-intel',\n",
       "               'subtype:direct-ml-plugin',\n",
       "               'subtype:macOS',\n",
       "               'subtype:windows',\n",
       "               'TF 1.12',\n",
       "               'TF 1.13',\n",
       "               'TF 1.14',\n",
       "               'TF 1.15',\n",
       "               'TF 1.5.0',\n",
       "               'TF 2.0',\n",
       "               'TF 2.1',\n",
       "               'TF 2.10',\n",
       "               'TF 2.11',\n",
       "               'TF 2.12',\n",
       "               'TF 2.13',\n",
       "               'TF 2.15',\n",
       "               'TF 2.2',\n",
       "               'TF 2.3',\n",
       "               'TF 2.4',\n",
       "               'TF 2.5',\n",
       "               'TF 2.6.0-rc0',\n",
       "               'TF 2.7',\n",
       "               'TF 2.8',\n",
       "               'TF 2.9',\n",
       "               'TF2.14',\n",
       "               'TFLiteConverter',\n",
       "               'TFLiteGooglePlayServices',\n",
       "               'TFLiteGpuDelegate',\n",
       "               'TFLiteHexagonDelegate',\n",
       "               'TFLiteModelMaker',\n",
       "               'TFLiteNNAPIDelegate',\n",
       "               'type:bug',\n",
       "               'type:build/install',\n",
       "               'type:docs-bug',\n",
       "               'type:docs-feature',\n",
       "               'type:feature',\n",
       "               'type:internal-todo',\n",
       "               'type:others',\n",
       "               'type:performance',\n",
       "               'type:support',\n",
       "               'waiting for patch release',\n",
       "               'WIP',\n",
       "               'wsl2']},\n",
       "             'Pierian-Data/Complete-Python-3-Bootcamp': {'repo': Repository(full_name=\"Pierian-Data/Complete-Python-3-Bootcamp\"),\n",
       "              'labels': ['bug',\n",
       "               'duplicate',\n",
       "               'enhancement',\n",
       "               'good first issue',\n",
       "               'help wanted',\n",
       "               'invalid',\n",
       "               'question',\n",
       "               'wontfix']}})"
      ]
     },
     "execution_count": 53,
     "metadata": {},
     "output_type": "execute_result"
    }
   ],
   "source": [
    "repoCache"
   ]
  },
  {
   "cell_type": "markdown",
   "metadata": {},
   "source": [
    "```python\n",
    "from github import Github\n",
    "from datetime import datetime, timedelta\n",
    "import collections\n",
    "\n",
    "# Authentication\n",
    "g = Github(\"YOUR_ACCESS_TOKEN\")\n",
    "\n",
    "# Specify the repository\n",
    "repo = g.get_repo(\"OWNER/REPO_NAME\")\n",
    "\n",
    "# Get issues marked with certain tags\n",
    "labels = [\"label1\", \"label2\"]  # Replace with your labels\n",
    "issues_with_labels = {label: repo.get_issues(labels=[label]).totalCount for label in labels}\n",
    "\n",
    "# Get unique commits to main branch\n",
    "commits = repo.get_commits(sha=\"main\")\n",
    "unique_commits = len(set([commit.sha for commit in commits]))\n",
    "\n",
    "# Get unique users who commit to main branch\n",
    "commit_users = set([commit.author.login for commit in commits if commit.author])\n",
    "unique_users = len(commit_users)\n",
    "\n",
    "# Top ten contributors\n",
    "contributors = repo.get_contributors()\n",
    "top_ten_contributors = {cont.login: cont.contributions for cont in contributors[:10]}\n",
    "\n",
    "# Top five contributors over the last 6 months\n",
    "six_months_ago = datetime.now() - timedelta(days=6*30)\n",
    "recent_contributions = collections.Counter()\n",
    "for commit in commits:\n",
    "    if commit.commit.author.date > six_months_ago:\n",
    "        recent_contributions[commit.author.login] += 1\n",
    "top_five_recent_contributors = dict(recent_contributions.most_common(5))\n",
    "\n",
    "# Number of issues closed in the last 6 months\n",
    "closed_issues_count = repo.get_issues(state='closed', since=six_months_ago).totalCount\n",
    "\n",
    "print(\"Issues with labels:\", issues_with_labels)\n",
    "print(\"Unique commits:\", unique_commits)\n",
    "print(\"Unique users:\", unique_users)\n",
    "print(\"Top ten contributors:\", top_ten_contributors)\n",
    "print(\"Top five contributors over the last 6 months:\", top_five_recent_contributors)\n",
    "print(\"Issues closed in the last 6 months:\", closed_issues_count)\n",
    "```"
   ]
  },
  {
   "cell_type": "markdown",
   "metadata": {},
   "source": [
    "```python\n",
    "print('hello')\n",
    "```"
   ]
  },
  {
   "cell_type": "code",
   "execution_count": 43,
   "metadata": {},
   "outputs": [
    {
     "name": "stdout",
     "output_type": "stream",
     "text": [
      "{'zpao': 1778, 'gaearon': 1667, 'acdlite': 1349, 'sophiebits': 1285, 'sebmarkbage': 1176, 'jimfb': 456, 'trueadm': 436, 'bvaughn': 366, 'petehunt': 332, 'chenglou': 222}\n"
     ]
    }
   ],
   "source": [
    "contributors = repo.get_contributors()\n",
    "top_ten_contributors = {cont.login: cont.contributions for cont in contributors[:10]}\n",
    "print(top_ten_contributors)"
   ]
  },
  {
   "cell_type": "code",
   "execution_count": null,
   "metadata": {},
   "outputs": [],
   "source": []
  },
  {
   "cell_type": "code",
   "execution_count": 44,
   "metadata": {},
   "outputs": [
    {
     "name": "stdout",
     "output_type": "stream",
     "text": [
      "{'zpao': 1778, 'gaearon': 1667, 'acdlite': 1349, 'sophiebits': 1285, 'sebmarkbage': 1176, 'jimfb': 456, 'trueadm': 436, 'bvaughn': 366, 'petehunt': 332, 'chenglou': 222}\n"
     ]
    }
   ],
   "source": [
    "contributors = repo.get_contributors()\n",
    "top_ten_contributors = {cont.login: cont.contributions for cont in contributors[:10]}\n",
    "print(top_ten_contributors)"
   ]
  },
  {
   "cell_type": "code",
   "execution_count": null,
   "metadata": {},
   "outputs": [],
   "source": []
  },
  {
   "cell_type": "code",
   "execution_count": null,
   "metadata": {},
   "outputs": [],
   "source": []
  }
 ],
 "metadata": {
  "kernelspec": {
   "display_name": "venv",
   "language": "python",
   "name": "python3"
  },
  "language_info": {
   "codemirror_mode": {
    "name": "ipython",
    "version": 3
   },
   "file_extension": ".py",
   "mimetype": "text/x-python",
   "name": "python",
   "nbconvert_exporter": "python",
   "pygments_lexer": "ipython3",
   "version": "3.9.18"
  }
 },
 "nbformat": 4,
 "nbformat_minor": 2
}
