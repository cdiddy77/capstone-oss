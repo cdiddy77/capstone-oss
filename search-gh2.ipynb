{
 "cells": [
  {
   "cell_type": "code",
   "execution_count": 5,
   "metadata": {},
   "outputs": [],
   "source": [
    "import os\n",
    "from dotenv import load_dotenv\n",
    "load_dotenv()\n",
    "from github import Github\n",
    "from github import Auth\n",
    "\n",
    "\n",
    "auth = Auth.Token(os.getenv(\"GITHUB_TOKEN\"))\n",
    "g = Github(auth=auth)\n"
   ]
  },
  {
   "cell_type": "code",
   "execution_count": 24,
   "metadata": {},
   "outputs": [
    {
     "name": "stdout",
     "output_type": "stream",
     "text": [
      "1000\n",
      "Repository: octocat/Spoon-Knife\n",
      "id: 1300192\n",
      "node_id: MDEwOlJlcG9zaXRvcnkxMzAwMTky\n",
      "name: Spoon-Knife\n",
      "full_name: octocat/Spoon-Knife\n",
      "private: False\n",
      "owner: {'login': 'octocat', 'id': 583231, 'node_id': 'MDQ6VXNlcjU4MzIzMQ==', 'avatar_url': 'https://avatars.githubusercontent.com/u/583231?v=4', 'gravatar_id': '', 'url': 'https://api.github.com/users/octocat', 'html_url': 'https://github.com/octocat', 'followers_url': 'https://api.github.com/users/octocat/followers', 'following_url': 'https://api.github.com/users/octocat/following{/other_user}', 'gists_url': 'https://api.github.com/users/octocat/gists{/gist_id}', 'starred_url': 'https://api.github.com/users/octocat/starred{/owner}{/repo}', 'subscriptions_url': 'https://api.github.com/users/octocat/subscriptions', 'organizations_url': 'https://api.github.com/users/octocat/orgs', 'repos_url': 'https://api.github.com/users/octocat/repos', 'events_url': 'https://api.github.com/users/octocat/events{/privacy}', 'received_events_url': 'https://api.github.com/users/octocat/received_events', 'type': 'User', 'site_admin': False}\n",
      "description: This repo is for demonstration purposes only.\n",
      "fork: False\n",
      "url: https://api.github.com/repos/octocat/Spoon-Knife\n",
      "created_at: 2011-01-27T19:30:43Z\n",
      "updated_at: 2024-01-06T14:59:42Z\n",
      "pushed_at: 2024-01-06T16:42:34Z\n",
      "homepage: \n",
      "size: 2\n",
      "stargazers_count: 11986\n",
      "watchers_count: 11986\n",
      "language: HTML\n",
      "has_issues: True\n",
      "has_projects: True\n",
      "has_downloads: True\n",
      "has_wiki: True\n",
      "has_pages: False\n",
      "has_discussions: False\n",
      "forks_count: 140734\n",
      "archived: False\n",
      "disabled: False\n",
      "open_issues_count: 16655\n",
      "license: None\n",
      "allow_forking: True\n",
      "is_template: False\n",
      "web_commit_signoff_required: False\n",
      "topics: []\n",
      "visibility: public\n",
      "forks: 140734\n",
      "open_issues: 16655\n",
      "watchers: 11986\n",
      "default_branch: main\n",
      "permissions: {'admin': False, 'maintain': False, 'push': False, 'triage': False, 'pull': True}\n",
      "temp_clone_token: \n",
      "network_count: 140734\n",
      "subscribers_count: 677\n",
      "\n",
      "---------------------------------\n",
      "\n",
      "id,node_id,name,full_name,private,owner,html_url,description,fork,url,forks_url,keys_url,collaborators_url,teams_url,hooks_url,issue_events_url,events_url,assignees_url,branches_url,tags_url,blobs_url,git_tags_url,git_refs_url,trees_url,statuses_url,languages_url,stargazers_url,contributors_url,subscribers_url,subscription_url,commits_url,git_commits_url,comments_url,issue_comment_url,contents_url,compare_url,merges_url,archive_url,downloads_url,issues_url,pulls_url,milestones_url,notifications_url,labels_url,releases_url,deployments_url,created_at,updated_at,pushed_at,git_url,ssh_url,clone_url,svn_url,homepage,size,stargazers_count,watchers_count,language,has_issues,has_projects,has_downloads,has_wiki,has_pages,has_discussions,forks_count,mirror_url,archived,disabled,open_issues_count,license,allow_forking,is_template,web_commit_signoff_required,topics,visibility,forks,open_issues,watchers,default_branch,permissions,temp_clone_token,network_count,subscribers_count\n"
     ]
    }
   ],
   "source": [
    "result = g.search_repositories(query='stars:>10000',sort='forks',order='desc')\n",
    "print(result.totalCount)\n",
    "for repo in result[:1]:\n",
    "    print(f\"Repository: {repo.full_name}\")\n",
    "    keys = repo.raw_data.keys()\n",
    "    for key, value in repo.raw_data.items():\n",
    "        if not key.endswith(\"_url\"):\n",
    "            print(f\"{key}: {value}\")\n",
    "    print(\"\\n---------------------------------\\n\")\n",
    "    print(','.join(keys))"
   ]
  },
  {
   "cell_type": "code",
   "execution_count": 26,
   "metadata": {},
   "outputs": [],
   "source": [
    "relevant_keys = [\n",
    "'id',\n",
    "'name',\n",
    "'full_name',\n",
    "'owner',\n",
    "'html_url',\n",
    "'description',\n",
    "'html_url',\n",
    "'fork',\n",
    "'url',\n",
    "'created_at',\n",
    "'updated_at',\n",
    "'pushed_at',\n",
    "'homepage',\n",
    "'size',\n",
    "'stargazers_count',\n",
    "'watchers_count',\n",
    "'language',\n",
    "'has_issues',\n",
    "'has_projects',\n",
    "'has_downloads',\n",
    "'has_wiki',\n",
    "'has_pages',\n",
    "'has_discussions',\n",
    "'forks_count',\n",
    "'archived',\n",
    "'disabled',\n",
    "'license',\n",
    "'allow_forking',\n",
    "'is_template',\n",
    "'web_commit_signoff_required',\n",
    "'topics',\n",
    "'visibility',\n",
    "'forks',\n",
    "'open_issues',\n",
    "'watchers',\n",
    "'network_count',\n",
    "'subscribers_count',\n",
    "]"
   ]
  },
  {
   "cell_type": "code",
   "execution_count": 28,
   "metadata": {},
   "outputs": [
    {
     "name": "stdout",
     "output_type": "stream",
     "text": [
      "id,name,full_name,owner,html_url,description,html_url,fork,url,created_at,updated_at,pushed_at,homepage,size,stargazers_count,watchers_count,language,has_issues,has_projects,has_downloads,has_wiki,has_pages,has_discussions,forks_count,archived,disabled,license,allow_forking,is_template,web_commit_signoff_required,topics,visibility,forks,open_issues,watchers,network_count,subscribers_count\n",
      "Repository: octocat/Spoon-Knife\n",
      "1300192,Spoon-Knife,octocat/Spoon-Knife,{'login': 'octocat', 'id': 583231, 'node_id': 'MDQ6VXNlcjU4MzIzMQ==', 'avatar_url': 'https://avatars.githubusercontent.com/u/583231?v=4', 'gravatar_id': '', 'url': 'https://api.github.com/users/octocat', 'html_url': 'https://github.com/octocat', 'followers_url': 'https://api.github.com/users/octocat/followers', 'following_url': 'https://api.github.com/users/octocat/following{/other_user}', 'gists_url': 'https://api.github.com/users/octocat/gists{/gist_id}', 'starred_url': 'https://api.github.com/users/octocat/starred{/owner}{/repo}', 'subscriptions_url': 'https://api.github.com/users/octocat/subscriptions', 'organizations_url': 'https://api.github.com/users/octocat/orgs', 'repos_url': 'https://api.github.com/users/octocat/repos', 'events_url': 'https://api.github.com/users/octocat/events{/privacy}', 'received_events_url': 'https://api.github.com/users/octocat/received_events', 'type': 'User', 'site_admin': False},https://github.com/octocat/Spoon-Knife,This repo is for demonstration purposes only.,https://github.com/octocat/Spoon-Knife,False,https://api.github.com/repos/octocat/Spoon-Knife,2011-01-27T19:30:43Z,2024-01-06T14:59:42Z,2024-01-06T16:42:34Z,,2,11986,11986,HTML,True,True,True,True,False,False,140734,False,False,None,True,False,False,[],public,140734,16655,11986,140734,677\n",
      "Repository: tensorflow/tensorflow\n",
      "45717250,tensorflow,tensorflow/tensorflow,{'login': 'tensorflow', 'id': 15658638, 'node_id': 'MDEyOk9yZ2FuaXphdGlvbjE1NjU4NjM4', 'avatar_url': 'https://avatars.githubusercontent.com/u/15658638?v=4', 'gravatar_id': '', 'url': 'https://api.github.com/users/tensorflow', 'html_url': 'https://github.com/tensorflow', 'followers_url': 'https://api.github.com/users/tensorflow/followers', 'following_url': 'https://api.github.com/users/tensorflow/following{/other_user}', 'gists_url': 'https://api.github.com/users/tensorflow/gists{/gist_id}', 'starred_url': 'https://api.github.com/users/tensorflow/starred{/owner}{/repo}', 'subscriptions_url': 'https://api.github.com/users/tensorflow/subscriptions', 'organizations_url': 'https://api.github.com/users/tensorflow/orgs', 'repos_url': 'https://api.github.com/users/tensorflow/repos', 'events_url': 'https://api.github.com/users/tensorflow/events{/privacy}', 'received_events_url': 'https://api.github.com/users/tensorflow/received_events', 'type': 'Organization', 'site_admin': False},https://github.com/tensorflow/tensorflow,An Open Source Machine Learning Framework for Everyone,https://github.com/tensorflow/tensorflow,False,https://api.github.com/repos/tensorflow/tensorflow,2015-11-07T01:19:20Z,2024-01-06T15:34:31Z,2024-01-06T17:06:43Z,https://tensorflow.org,968544,179831,179831,C++,True,True,True,False,False,False,89288,False,False,{'key': 'apache-2.0', 'name': 'Apache License 2.0', 'spdx_id': 'Apache-2.0', 'url': 'https://api.github.com/licenses/apache-2.0', 'node_id': 'MDc6TGljZW5zZTI='},True,False,False,['deep-learning', 'deep-neural-networks', 'distributed', 'machine-learning', 'ml', 'neural-network', 'python', 'tensorflow'],public,89288,2046,179831,89288,7655\n",
      "Repository: github/gitignore\n",
      "1062897,gitignore,github/gitignore,{'login': 'github', 'id': 9919, 'node_id': 'MDEyOk9yZ2FuaXphdGlvbjk5MTk=', 'avatar_url': 'https://avatars.githubusercontent.com/u/9919?v=4', 'gravatar_id': '', 'url': 'https://api.github.com/users/github', 'html_url': 'https://github.com/github', 'followers_url': 'https://api.github.com/users/github/followers', 'following_url': 'https://api.github.com/users/github/following{/other_user}', 'gists_url': 'https://api.github.com/users/github/gists{/gist_id}', 'starred_url': 'https://api.github.com/users/github/starred{/owner}{/repo}', 'subscriptions_url': 'https://api.github.com/users/github/subscriptions', 'organizations_url': 'https://api.github.com/users/github/orgs', 'repos_url': 'https://api.github.com/users/github/repos', 'events_url': 'https://api.github.com/users/github/events{/privacy}', 'received_events_url': 'https://api.github.com/users/github/received_events', 'type': 'Organization', 'site_admin': False},https://github.com/github/gitignore,A collection of useful .gitignore templates,https://github.com/github/gitignore,False,https://api.github.com/repos/github/gitignore,2010-11-08T20:17:14Z,2024-01-06T16:57:34Z,2024-01-05T09:58:11Z,,2356,154289,154289,None,False,False,True,False,False,False,83937,False,False,{'key': 'cc0-1.0', 'name': 'Creative Commons Zero v1.0 Universal', 'spdx_id': 'CC0-1.0', 'url': 'https://api.github.com/licenses/cc0-1.0', 'node_id': 'MDc6TGljZW5zZTY='},True,False,False,['git', 'gitignore'],public,83937,469,154289,83937,3354\n"
     ]
    }
   ],
   "source": [
    "result = g.search_repositories(query='stars:>10000',sort='forks',order='desc')\n",
    "# print(result.totalCount)\n",
    "\n",
    "print(','.join(relevant_keys))\n",
    "for repo in result[:3]:\n",
    "    print(f\"Repository: {repo.full_name}\")\n",
    "    values = []\n",
    "    for key in relevant_keys:\n",
    "        values.append(str(repo.raw_data[key]))\n",
    "    print(','.join(values))"
   ]
  },
  {
   "cell_type": "code",
   "execution_count": null,
   "metadata": {},
   "outputs": [],
   "source": []
  }
 ],
 "metadata": {
  "kernelspec": {
   "display_name": "venv",
   "language": "python",
   "name": "python3"
  },
  "language_info": {
   "codemirror_mode": {
    "name": "ipython",
    "version": 3
   },
   "file_extension": ".py",
   "mimetype": "text/x-python",
   "name": "python",
   "nbconvert_exporter": "python",
   "pygments_lexer": "ipython3",
   "version": "3.10.13"
  }
 },
 "nbformat": 4,
 "nbformat_minor": 2
}
