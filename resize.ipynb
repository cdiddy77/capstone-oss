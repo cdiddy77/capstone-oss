{
 "cells": [
  {
   "cell_type": "code",
   "execution_count": 5,
   "metadata": {},
   "outputs": [
    {
     "name": "stdout",
     "output_type": "stream",
     "text": [
      "New dimensions: 768x576\n"
     ]
    }
   ],
   "source": [
    "def compute_scaled_dimensions(width, height, aspect_ratio_width, aspect_ratio_height, scale):\n",
    "    # Determine if the original dimensions are in portrait or landscape\n",
    "    is_portrait = height > width\n",
    "    \n",
    "    # Calculate target dimensions that fit the desired aspect ratio\n",
    "    if is_portrait:\n",
    "        # Height is the dominant dimension\n",
    "        target_height = height\n",
    "        target_width = (height / aspect_ratio_height) * aspect_ratio_width\n",
    "    else:\n",
    "        # Width is the dominant dimension\n",
    "        target_width = width\n",
    "        target_height = (width / aspect_ratio_width) * aspect_ratio_height\n",
    "    \n",
    "    # Check if recalculated dimensions maintain the orientation\n",
    "    if (target_width > target_height) != (width > height):\n",
    "        # Swap dimensions if the orientation is reversed (safety check)\n",
    "        target_width, target_height = target_height, target_width\n",
    "\n",
    "    # Apply the scale factor\n",
    "    scaled_width = target_width * scale\n",
    "    scaled_height = target_height * scale\n",
    "\n",
    "    return int(scaled_width), int(scaled_height)\n",
    "\n",
    "# Example usage\n",
    "original_width = 1280\n",
    "original_height = 720\n",
    "aspect_ratio_width = 4\n",
    "aspect_ratio_height = 3\n",
    "scale = 0.6\n",
    "\n",
    "new_width, new_height = compute_scaled_dimensions(original_width, original_height, aspect_ratio_width, aspect_ratio_height, scale)\n",
    "print(f\"New dimensions: {new_width}x{new_height}\")\n"
   ]
  }
 ],
 "metadata": {
  "kernelspec": {
   "display_name": "venv",
   "language": "python",
   "name": "python3"
  },
  "language_info": {
   "codemirror_mode": {
    "name": "ipython",
    "version": 3
   },
   "file_extension": ".py",
   "mimetype": "text/x-python",
   "name": "python",
   "nbconvert_exporter": "python",
   "pygments_lexer": "ipython3",
   "version": "3.9.18"
  }
 },
 "nbformat": 4,
 "nbformat_minor": 2
}
